{
 "cells": [
  {
   "cell_type": "code",
   "execution_count": null,
   "metadata": {
    "application/vnd.databricks.v1+cell": {
     "cellMetadata": {
      "byteLimit": 2048000,
      "rowLimit": 10000
     },
     "inputWidgets": {},
     "nuid": "dd4bf870-9e82-47bb-857c-0d1517fbe22c",
     "showTitle": false,
     "title": ""
    }
   },
   "outputs": [],
   "source": [
    "import re \n",
    "from pyspark.sql import DataFrame\n",
    "from pyspark.sql.functions import sum\n",
    "from pyspark.sql.functions import udf\n",
    "from pyspark.sql.types import StringType"
   ]
  },
  {
   "cell_type": "code",
   "execution_count": null,
   "metadata": {
    "application/vnd.databricks.v1+cell": {
     "cellMetadata": {
      "byteLimit": 2048000,
      "rowLimit": 10000
     },
     "inputWidgets": {},
     "nuid": "1c538a89-0ae2-4e24-a433-8c6c48968da4",
     "showTitle": false,
     "title": ""
    }
   },
   "outputs": [],
   "source": [
    "# Definindo informações de conexão para um banco de dados PostgreSQL.\n",
    "# Aqui, estamos configurando os detalhes do driver JDBC, credenciais do banco de dados\n",
    "# e a URL de conexão necessária para acessar o banco de dados.\n",
    "\n",
    "# Driver JDBC para PostgreSQL\n",
    "driver = \"org.postgresql.Driver\"\n",
    "\n",
    "# Credenciais do banco de dados\n",
    "database_host = \"psql-mock-database-cloud.postgres.database.azure.com\"\n",
    "database_port = \"5432\"\n",
    "database_name = \"ecom1692302642986jdgfoiqqgnwhjgtz\"\n",
    "user = \"bktdrkjovneylsygcyjfmgsp@psql-mock-database-cloud\"\n",
    "password = \"vokkfcasyhwkvhytorkpjimf\"\n",
    "\n",
    "# URL de conexão construída usando as informações acima\n",
    "url = f\"jdbc:postgresql://{database_host}:{database_port}/{database_name}\"\n"
   ]
  },
  {
   "cell_type": "code",
   "execution_count": null,
   "metadata": {
    "application/vnd.databricks.v1+cell": {
     "cellMetadata": {
      "byteLimit": 2048000,
      "rowLimit": 10000
     },
     "inputWidgets": {},
     "nuid": "1d4f1afe-0ca0-479c-a227-c73b5198c7f4",
     "showTitle": false,
     "title": ""
    }
   },
   "outputs": [],
   "source": [
    "def get_remote_table(driver: str, url: str, table: str, user: str, password: str) -> DataFrame:\n",
    "    \"\"\"\n",
    "    Lê uma tabela remota utilizando Spark DataFrame API.\n",
    "\n",
    "    Args:\n",
    "        driver (str): O driver JDBC para o banco de dados.\n",
    "        url (str): A URL do banco de dados.\n",
    "        table (str): O nome da tabela a ser lida.\n",
    "        user (str): O nome de usuário para autenticação.\n",
    "        password (str): A senha para autenticação.\n",
    "\n",
    "    Returns:\n",
    "        DataFrame: Um DataFrame contendo os dados da tabela remota.\n",
    "    \"\"\"\n",
    "    \n",
    "    remote_table = (spark.read\n",
    "                    .format(\"jdbc\")\n",
    "                    .option(\"driver\", driver)\n",
    "                    .option(\"url\", url)\n",
    "                    .option(\"dbtable\", table)\n",
    "                    .option(\"user\", user)\n",
    "                    .option(\"password\", password)\n",
    "                    .load()\n",
    "                    )\n",
    "    \n",
    "    return remote_table\n"
   ]
  },
  {
   "cell_type": "code",
   "execution_count": null,
   "metadata": {
    "application/vnd.databricks.v1+cell": {
     "cellMetadata": {
      "byteLimit": 2048000,
      "rowLimit": 10000
     },
     "inputWidgets": {},
     "nuid": "8b0ba53b-d783-4a34-937b-ccf556d8cd60",
     "showTitle": false,
     "title": ""
    }
   },
   "outputs": [],
   "source": [
    "# Obtendo dados de tabelas remotas do banco de dados utilizando a função get_remote_table.\n",
    "# Aqui, estamos buscando dados de várias tabelas usando as credenciais e informações de conexão\n",
    "# previamente configuradas. Cada chamada da função get_remote_table resulta em um DataFrame contendo\n",
    "# os dados da tabela correspondente.\n",
    "\n",
    "# Obtendo dados da tabela 'customers'\n",
    "customers = get_remote_table(driver=driver, url=url, table='customers', user=user, password=password)\n",
    "\n",
    "# Obtendo dados da tabela 'employees'\n",
    "employees = get_remote_table(driver=driver, url=url, table='employees', user=user, password=password)\n",
    "\n",
    "# Obtendo dados da tabela 'offices'\n",
    "offices = get_remote_table(driver=driver, url=url, table='offices', user=user, password=password)\n",
    "\n",
    "# Obtendo dados da tabela 'orderdetails'\n",
    "orderdetails = get_remote_table(driver=driver, url=url, table='orderdetails', user=user, password=password)\n",
    "\n",
    "# Obtendo dados da tabela 'orders'\n",
    "orders = get_remote_table(driver=driver, url=url, table='orders', user=user, password=password)\n",
    "\n",
    "# Obtendo dados da tabela 'payments'\n",
    "payments = get_remote_table(driver=driver, url=url, table='payments', user=user, password=password)\n",
    "\n",
    "# Obtendo dados da tabela 'product_lines'\n",
    "product_lines = get_remote_table(driver=driver, url=url, table='product_lines', user=user, password=password)\n",
    "\n",
    "# Obtendo dados da tabela 'products'\n",
    "products = get_remote_table(driver=driver, url=url, table='products', user=user, password=password)\n"
   ]
  },
  {
   "cell_type": "code",
   "execution_count": null,
   "metadata": {
    "application/vnd.databricks.v1+cell": {
     "cellMetadata": {
      "byteLimit": 2048000,
      "rowLimit": 10000
     },
     "inputWidgets": {},
     "nuid": "f7372ef9-5ac5-4824-9cb5-0642e9794279",
     "showTitle": false,
     "title": ""
    }
   },
   "outputs": [
    {
     "name": "stdout",
     "output_type": "stream",
     "text": [
      "+------------+--------------------+----------------+-----+\n",
      "|product_line|    text_description|html_description|image|\n",
      "+------------+--------------------+----------------+-----+\n",
      "|Classic Cars|Attention car ent...|            null| null|\n",
      "| Motorcycles|Our motorcycles a...|            null| null|\n",
      "|      Planes|Unique, diecast a...|            null| null|\n",
      "|       Ships|The perfect holid...|            null| null|\n",
      "|      Trains|Model trains are ...|            null| null|\n",
      "+------------+--------------------+----------------+-----+\n",
      "only showing top 5 rows\n",
      "\n"
     ]
    }
   ],
   "source": [
    "product_lines.show(n=5)"
   ]
  },
  {
   "cell_type": "code",
   "execution_count": null,
   "metadata": {
    "application/vnd.databricks.v1+cell": {
     "cellMetadata": {
      "byteLimit": 2048000,
      "rowLimit": 10000
     },
     "inputWidgets": {},
     "nuid": "6c7c1d04-239b-4452-85df-1048cd8c7a7f",
     "showTitle": false,
     "title": ""
    }
   },
   "outputs": [],
   "source": [
    "# Salvando DataFrames em formato Parquet.\n",
    "# Neste trecho de código, estamos salvando os DataFrames resultantes das consultas\n",
    "# às tabelas remotas em formato Parquet. Cada DataFrame é salvo em um local específico\n",
    "# usando o método write.parquet, facilitando o armazenamento dos dados em um formato eficiente.\n",
    "\n",
    "# Salvando DataFrame 'customers' em Parquet\n",
    "customers.write.parquet(\"FileStore/CaseTecnico/customers.parquet\")\n",
    "\n",
    "# Salvando DataFrame 'employees' em Parquet\n",
    "employees.write.parquet(\"FileStore/CaseTecnico/employees.parquet\")\n",
    "\n",
    "# Salvando DataFrame 'offices' em Parquet\n",
    "offices.write.parquet(\"FileStore/CaseTecnico/offices.parquet\")\n",
    "\n",
    "# Salvando DataFrame 'orderdetails' em Parquet\n",
    "orderdetails.write.parquet(\"FileStore/CaseTecnico/orderdetails.parquet\")\n",
    "\n",
    "# Salvando DataFrame 'orders' em Parquet\n",
    "orders.write.parquet(\"FileStore/CaseTecnico/orders.parquet\")\n",
    "\n",
    "# Salvando DataFrame 'payments' em Parquet\n",
    "payments.write.parquet(\"FileStore/CaseTecnico/payments.parquet\")\n",
    "\n",
    "# Salvando DataFrame 'product_lines' em Parquet\n",
    "product_lines.write.parquet(\"FileStore/CaseTecnico/product_lines.parquet\")\n",
    "\n",
    "# Salvando DataFrame 'products' em Parquet\n",
    "products.write.parquet(\"FileStore/CaseTecnico/products.parquet\")\n"
   ]
  },
  {
   "cell_type": "code",
   "execution_count": null,
   "metadata": {
    "application/vnd.databricks.v1+cell": {
     "cellMetadata": {
      "byteLimit": 2048000,
      "rowLimit": 10000
     },
     "inputWidgets": {},
     "nuid": "67c3716a-80f6-48d9-9149-92a71a9e26b9",
     "showTitle": false,
     "title": ""
    }
   },
   "outputs": [
    {
     "data": {
      "text/html": [
       "<style scoped>\n",
       "  .table-result-container {\n",
       "    max-height: 300px;\n",
       "    overflow: auto;\n",
       "  }\n",
       "  table, th, td {\n",
       "    border: 1px solid black;\n",
       "    border-collapse: collapse;\n",
       "  }\n",
       "  th, td {\n",
       "    padding: 5px;\n",
       "  }\n",
       "  th {\n",
       "    text-align: left;\n",
       "  }\n",
       "</style><div class='table-result-container'><table class='table-result'><thead style='background-color: white'><tr><th>path</th><th>name</th><th>size</th><th>modificationTime</th></tr></thead><tbody><tr><td>dbfs:/FileStore/CaseTecnico/customers.parquet/</td><td>customers.parquet/</td><td>0</td><td>1692501896613</td></tr><tr><td>dbfs:/FileStore/CaseTecnico/employees.parquet/</td><td>employees.parquet/</td><td>0</td><td>1692501896613</td></tr><tr><td>dbfs:/FileStore/CaseTecnico/offices.parquet/</td><td>offices.parquet/</td><td>0</td><td>1692501896613</td></tr><tr><td>dbfs:/FileStore/CaseTecnico/orderdetails.parquet/</td><td>orderdetails.parquet/</td><td>0</td><td>1692501896613</td></tr><tr><td>dbfs:/FileStore/CaseTecnico/orders.parquet/</td><td>orders.parquet/</td><td>0</td><td>1692501896613</td></tr><tr><td>dbfs:/FileStore/CaseTecnico/payments.parquet/</td><td>payments.parquet/</td><td>0</td><td>1692501896613</td></tr><tr><td>dbfs:/FileStore/CaseTecnico/product_lines.parquet/</td><td>product_lines.parquet/</td><td>0</td><td>1692501896613</td></tr><tr><td>dbfs:/FileStore/CaseTecnico/products.parquet/</td><td>products.parquet/</td><td>0</td><td>1692501896613</td></tr></tbody></table></div>"
      ]
     },
     "metadata": {
      "application/vnd.databricks.v1+output": {
       "addedWidgets": {},
       "aggData": [],
       "aggError": "",
       "aggOverflow": false,
       "aggSchema": [],
       "aggSeriesLimitReached": false,
       "aggType": "",
       "arguments": {},
       "columnCustomDisplayInfos": {},
       "data": [
        [
         "dbfs:/FileStore/CaseTecnico/customers.parquet/",
         "customers.parquet/",
         0,
         1692501896613
        ],
        [
         "dbfs:/FileStore/CaseTecnico/employees.parquet/",
         "employees.parquet/",
         0,
         1692501896613
        ],
        [
         "dbfs:/FileStore/CaseTecnico/offices.parquet/",
         "offices.parquet/",
         0,
         1692501896613
        ],
        [
         "dbfs:/FileStore/CaseTecnico/orderdetails.parquet/",
         "orderdetails.parquet/",
         0,
         1692501896613
        ],
        [
         "dbfs:/FileStore/CaseTecnico/orders.parquet/",
         "orders.parquet/",
         0,
         1692501896613
        ],
        [
         "dbfs:/FileStore/CaseTecnico/payments.parquet/",
         "payments.parquet/",
         0,
         1692501896613
        ],
        [
         "dbfs:/FileStore/CaseTecnico/product_lines.parquet/",
         "product_lines.parquet/",
         0,
         1692501896613
        ],
        [
         "dbfs:/FileStore/CaseTecnico/products.parquet/",
         "products.parquet/",
         0,
         1692501896613
        ]
       ],
       "datasetInfos": [],
       "dbfsResultPath": null,
       "isJsonSchema": true,
       "metadata": {
        "isDbfsCommandResult": false
       },
       "overflow": false,
       "plotOptions": {
        "customPlotOptions": {},
        "displayType": "table",
        "pivotAggregation": null,
        "pivotColumns": null,
        "xColumns": null,
        "yColumns": null
       },
       "removedWidgets": [],
       "schema": [
        {
         "metadata": "{}",
         "name": "path",
         "type": "\"string\""
        },
        {
         "metadata": "{}",
         "name": "name",
         "type": "\"string\""
        },
        {
         "metadata": "{}",
         "name": "size",
         "type": "\"long\""
        },
        {
         "metadata": "{}",
         "name": "modificationTime",
         "type": "\"long\""
        }
       ],
       "type": "table"
      }
     },
     "output_type": "display_data"
    }
   ],
   "source": [
    "%fs ls /FileStore/CaseTecnico/"
   ]
  },
  {
   "cell_type": "code",
   "execution_count": null,
   "metadata": {
    "application/vnd.databricks.v1+cell": {
     "cellMetadata": {
      "byteLimit": 2048000,
      "rowLimit": 10000
     },
     "inputWidgets": {},
     "nuid": "470c213d-e002-487f-8db9-d8c274cff6e2",
     "showTitle": false,
     "title": ""
    }
   },
   "outputs": [],
   "source": [
    "# Lendo arquivos Parquet como DataFrames.\n",
    "# Neste trecho de código, estamos lendo os arquivos Parquet que foram previamente\n",
    "# salvos como DataFrames. Cada arquivo Parquet é lido usando o método read.parquet,\n",
    "# resultando em um DataFrame que contém os dados do arquivo.\n",
    "\n",
    "# Lendo arquivo Parquet 'customers'\n",
    "customers_parquet = spark.read.parquet(\"/FileStore/CaseTecnico/customers.parquet\")\n",
    "\n",
    "# Lendo arquivo Parquet 'employees'\n",
    "employees_parquet = spark.read.parquet(\"/FileStore/CaseTecnico/employees.parquet\")\n",
    "\n",
    "# Lendo arquivo Parquet 'offices'\n",
    "offices_parquet = spark.read.parquet(\"/FileStore/CaseTecnico/offices.parquet\")\n",
    "\n",
    "# Lendo arquivo Parquet 'orderdetails'\n",
    "orderdetails_parquet = spark.read.parquet(\"/FileStore/CaseTecnico/orderdetails.parquet\")\n",
    "\n",
    "# Lendo arquivo Parquet 'orders'\n",
    "orders_parquet = spark.read.parquet(\"/FileStore/CaseTecnico/orders.parquet\")\n",
    "\n",
    "# Lendo arquivo Parquet 'payments'\n",
    "payments_parquet = spark.read.parquet(\"/FileStore/CaseTecnico/payments.parquet\")\n",
    "\n",
    "# Lendo arquivo Parquet 'product_lines'\n",
    "product_lines_parquet = spark.read.parquet(\"/FileStore/CaseTecnico/product_lines.parquet\")\n",
    "\n",
    "# Lendo arquivo Parquet 'products'\n",
    "products_parquet = spark.read.parquet(\"/FileStore/CaseTecnico/products.parquet\")\n"
   ]
  },
  {
   "cell_type": "code",
   "execution_count": null,
   "metadata": {
    "application/vnd.databricks.v1+cell": {
     "cellMetadata": {
      "byteLimit": 2048000,
      "rowLimit": 10000
     },
     "inputWidgets": {},
     "nuid": "753e98a1-421a-40c5-9de9-261cd9995ef9",
     "showTitle": false,
     "title": ""
    }
   },
   "outputs": [
    {
     "name": "stdout",
     "output_type": "stream",
     "text": [
      "+----------------+--------------------+----------------+-----+\n",
      "|    product_line|    text_description|html_description|image|\n",
      "+----------------+--------------------+----------------+-----+\n",
      "|    Classic Cars|Attention car ent...|            null| null|\n",
      "|     Motorcycles|Our motorcycles a...|            null| null|\n",
      "|          Planes|Unique, diecast a...|            null| null|\n",
      "|           Ships|The perfect holid...|            null| null|\n",
      "|          Trains|Model trains are ...|            null| null|\n",
      "|Trucks and Buses|The Truck and Bus...|            null| null|\n",
      "|    Vintage Cars|Our Vintage Car m...|            null| null|\n",
      "+----------------+--------------------+----------------+-----+\n",
      "\n"
     ]
    }
   ],
   "source": [
    "product_lines_parquet.show(n=10)"
   ]
  },
  {
   "cell_type": "code",
   "execution_count": null,
   "metadata": {
    "application/vnd.databricks.v1+cell": {
     "cellMetadata": {
      "byteLimit": 2048000,
      "rowLimit": 10000
     },
     "inputWidgets": {},
     "nuid": "76dba5df-7c16-47b4-ac4f-5bec9a955c85",
     "showTitle": false,
     "title": ""
    }
   },
   "outputs": [],
   "source": [
    "# Obtendo novos dados da tabela 'product_lines'\n",
    "product_lines = get_remote_table(driver=driver, url=url, table='product_lines', user=user, password=password)"
   ]
  },
  {
   "cell_type": "code",
   "execution_count": null,
   "metadata": {
    "application/vnd.databricks.v1+cell": {
     "cellMetadata": {
      "byteLimit": 2048000,
      "rowLimit": 10000
     },
     "inputWidgets": {},
     "nuid": "8f242dc8-32a6-48ce-b72c-4316350ecf5b",
     "showTitle": false,
     "title": ""
    }
   },
   "outputs": [
    {
     "name": "stdout",
     "output_type": "stream",
     "text": [
      "+--------------+--------------------+--------------------+-----+\n",
      "|  product_line|    text_description|    html_description|image|\n",
      "+--------------+--------------------+--------------------+-----+\n",
      "|Uno com Escada|A cada dia cresce...|                null| null|\n",
      "|  Vintage Cars|Our Vintage Car m...|https://www.pexel...| null|\n",
      "+--------------+--------------------+--------------------+-----+\n",
      "\n"
     ]
    }
   ],
   "source": [
    "# identificar as mudanças entre as fontes de dados\n",
    "changes = product_lines.subtract(product_lines_parquet)\n",
    "changes.show()"
   ]
  },
  {
   "cell_type": "code",
   "execution_count": null,
   "metadata": {
    "application/vnd.databricks.v1+cell": {
     "cellMetadata": {
      "byteLimit": 2048000,
      "rowLimit": 10000
     },
     "inputWidgets": {},
     "nuid": "3a31b8f7-db0f-4fd1-b30d-504c2ae48fe1",
     "showTitle": false,
     "title": ""
    }
   },
   "outputs": [
    {
     "name": "stdout",
     "output_type": "stream",
     "text": [
      "Out[31]: ['{\"product_line\":\"Uno com Escada\",\"text_description\":\"A cada dia cresce a fama dos Fiat Uno com escada no teto, que costumam ser veículos de serviço das firmas no Brasil. Há tempos surgem memes e piadas na internet envolvendo esse “superesportivo” considerando o seu alto desempenho, especialmente quando levam nas suas portas adesivos de empresas de telecomunicações.\"}',\n",
      " '{\"product_line\":\"Vintage Cars\",\"text_description\":\"Our Vintage Car models realistically portray automobiles produced from the early 1900s through the 1940s. Materials used include Bakelite, diecast, plastic and wood. Most of the replicas are in the 1:18 and 1:24 scale sizes, which provide the optimum in detail and accuracy. Prices range from $30.00 up to $180.00 for some special limited edition replicas. All models include a certificate of authenticity from their manufacturers and come fully assembled and ready for display in the home or office.\",\"html_description\":\"https://www.pexels.com/photo/blue-sedan-712618/\"}']"
     ]
    }
   ],
   "source": [
    "changes.toJSON().collect()"
   ]
  },
  {
   "cell_type": "code",
   "execution_count": null,
   "metadata": {
    "application/vnd.databricks.v1+cell": {
     "cellMetadata": {
      "byteLimit": 2048000,
      "rowLimit": 10000
     },
     "inputWidgets": {},
     "nuid": "229018ef-0587-447e-aa80-2bf9f3bff4fc",
     "showTitle": false,
     "title": ""
    }
   },
   "outputs": [],
   "source": [
    "def merge_data_sources(df_jdbc: DataFrame, df_parquet: DataFrame, key: str, path_to_parquet: str) -> None:\n",
    "    \"\"\"\n",
    "    Realiza a ação de merge entre duas fontes de dados: uma DataFrame da fonte JDBC e outra DataFrame\n",
    "    dos arquivos Parquet. A função identifica registros a serem inseridos, atualizados e excluídos para\n",
    "    manter a consistência entre as fontes de dados. Os resultados são salvos como arquivos Parquet.\n",
    "\n",
    "    Args:\n",
    "        df_jdbc (DataFrame): DataFrame da fonte JDBC contendo os dados atualizados.\n",
    "        df_parquet (DataFrame): DataFrame dos arquivos Parquet como fonte de armazenamento local.\n",
    "        key (str): Nome da coluna que é chave primária para identificação de registros.\n",
    "        path_to_parquet (str): Caminho para onde os arquivos Parquet atualizados serão salvos.\n",
    "\n",
    "    Returns:\n",
    "        None: A função não retorna valor. Os resultados são salvos nos arquivos Parquet especificados.\n",
    "    \"\"\"\n",
    "    # Identificar mudanças entre as fontes de dados\n",
    "    changes = df_jdbc.subtract(df_parquet)\n",
    "\n",
    "    # Identificar registros a serem excluídos\n",
    "    deletes = df_parquet.join(changes, key, \"inner\")\n",
    "\n",
    "    # Identificar registros a serem inseridos\n",
    "    inserts = changes\n",
    "\n",
    "    # Identificar registros a serem atualizados\n",
    "    updates = df_jdbc.join(df_parquet.alias(\"parquet_alias\"), key, \"inner\") \\\n",
    "                     .select(\"parquet_alias.*\")\n",
    "\n",
    "    # Remover registros a serem excluídos dos arquivos Parquet\n",
    "    df_updated = df_parquet.join(deletes, key, \"left_anti\")\n",
    "\n",
    "    # Adicionar registros a serem inseridos aos arquivos Parquet\n",
    "    df_updated = df_updated.union(inserts)\n",
    "\n",
    "    # Atualizar registros a serem atualizados nos arquivos Parquet\n",
    "    df_updated = df_updated.join(updates, updates.columns, \"left_anti\")\n",
    "\n",
    "    # Salvar os resultados de volta como Parquet\n",
    "    df_updated.write.mode(\"overwrite\").parquet(path_to_parquet)"
   ]
  },
  {
   "cell_type": "code",
   "execution_count": null,
   "metadata": {
    "application/vnd.databricks.v1+cell": {
     "cellMetadata": {
      "byteLimit": 2048000,
      "rowLimit": 10000
     },
     "inputWidgets": {},
     "nuid": "0c59ab1d-426f-4409-b987-5cfe668d5f15",
     "showTitle": false,
     "title": ""
    }
   },
   "outputs": [],
   "source": [
    "# Executando merge entre as fontes de dados\n",
    "merge_data_sources(\n",
    "    df_jdbc=product_lines, \n",
    "    df_parquet=product_lines_parquet, \n",
    "    key=\"product_line\", \n",
    "    path_to_parquet=\"/FileStore/CaseTecnico/product_lines.parquet\"\n",
    ")"
   ]
  },
  {
   "cell_type": "code",
   "execution_count": null,
   "metadata": {
    "application/vnd.databricks.v1+cell": {
     "cellMetadata": {
      "byteLimit": 2048000,
      "rowLimit": 10000
     },
     "inputWidgets": {},
     "nuid": "fa416349-540f-4c4d-8acd-f494a1a42033",
     "showTitle": false,
     "title": ""
    }
   },
   "outputs": [
    {
     "name": "stdout",
     "output_type": "stream",
     "text": [
      "+----------------+--------------------+--------------------+-----+\n",
      "|    product_line|    text_description|    html_description|image|\n",
      "+----------------+--------------------+--------------------+-----+\n",
      "|     Motorcycles|Our motorcycles a...|                null| null|\n",
      "|           Ships|The perfect holid...|                null| null|\n",
      "|Trucks and Buses|The Truck and Bus...|                null| null|\n",
      "|    Classic Cars|Attention car ent...|                null| null|\n",
      "|          Trains|Model trains are ...|                null| null|\n",
      "|          Planes|Unique, diecast a...|                null| null|\n",
      "|  Uno com Escada|A cada dia cresce...|                null| null|\n",
      "|    Vintage Cars|Our Vintage Car m...|https://www.pexel...| null|\n",
      "+----------------+--------------------+--------------------+-----+\n",
      "\n"
     ]
    }
   ],
   "source": [
    "new_product_lines_parquet = spark.read.parquet(\"/FileStore/CaseTecnico/product_lines.parquet\")\n",
    "new_product_lines_parquet.show()"
   ]
  },
  {
   "cell_type": "code",
   "execution_count": null,
   "metadata": {
    "application/vnd.databricks.v1+cell": {
     "cellMetadata": {
      "byteLimit": 2048000,
      "rowLimit": 10000
     },
     "inputWidgets": {},
     "nuid": "c01da31f-4dac-4b36-9e63-86bb8eebd5ea",
     "showTitle": false,
     "title": ""
    }
   },
   "outputs": [
    {
     "name": "stdout",
     "output_type": "stream",
     "text": [
      "+-----------+-----+\n",
      "|    country|count|\n",
      "+-----------+-----+\n",
      "|New Zealand|    2|\n",
      "+-----------+-----+\n",
      "only showing top 1 row\n",
      "\n"
     ]
    }
   ],
   "source": [
    "# Questão N1: Qual país possui a maior quantidade de itens cancelados?\n",
    "\n",
    "# Calculando a quantidade de itens cancelados por país:\n",
    "# - Filtrar os pedidos com status 'Cancelled'\n",
    "# - Realizar um join com a tabela de clientes baseado no número do cliente\n",
    "# - Agrupar por país e contar a quantidade de pedidos cancelados por país\n",
    "# - Ordenar em ordem decrescente pela contagem\n",
    "\n",
    "cancelled_count_by_country = orders \\\n",
    "    .filter(\"status = 'Cancelled'\") \\\n",
    "    .join(customers, on=orders.customer_number == customers.customer_number, how=\"inner\") \\\n",
    "    .groupBy(customers.country) \\\n",
    "    .count() \\\n",
    "    .orderBy(\"count\", ascending=0)\n",
    "\n",
    "# Salvando a contagem de itens cancelados por país em formato Delta:\n",
    "# - Utilizando o método write.mode(\"overwrite\").format(\"delta\").save() para salvar em Delta\n",
    "# - O caminho \"/FileStore/CaseTecnico/cancelled_count_by_country.delta\" indica onde os dados serão salvos\n",
    "\n",
    "cancelled_count_by_country.write.mode(\"overwrite\").format(\"delta\").save(\"/FileStore/CaseTecnico/cancelled_count_by_country.delta\")\n",
    "\n",
    "# Exibindo o resultado da contagem de itens cancelados por país\n",
    "cancelled_count_by_country.show(n=1)\n"
   ]
  },
  {
   "cell_type": "code",
   "execution_count": null,
   "metadata": {
    "application/vnd.databricks.v1+cell": {
     "cellMetadata": {
      "byteLimit": 2048000,
      "rowLimit": 10000
     },
     "inputWidgets": {},
     "nuid": "d4caed72-eb26-4a30-ba18-67a7980f846f",
     "showTitle": false,
     "title": ""
    }
   },
   "outputs": [
    {
     "name": "stdout",
     "output_type": "stream",
     "text": [
      "+------------+---------+\n",
      "|product_line|  revenue|\n",
      "+------------+---------+\n",
      "|Classic Cars|603666.99|\n",
      "+------------+---------+\n",
      "only showing top 1 row\n",
      "\n"
     ]
    }
   ],
   "source": [
    "# Questão N2: Qual o faturamento da linha de produto mais vendido?\n",
    "# Considerando os itens Shipped cujos pedidos foram realizados no ano de 2005.\n",
    "\n",
    "# Calculando o faturamento da linha de produto mais vendido:\n",
    "# - Filtrar os pedidos com status 'Shipped' e que foram realizados no ano de 2005\n",
    "# - Realizar joins para unir os pedidos, detalhes do pedido, produtos e linhas de produto\n",
    "# - Selecionar a linha de produto e calcular o valor total (quantidade * preço) para cada item\n",
    "# - Agrupar por linha de produto e somar os valores totais\n",
    "\n",
    "revenue_product_line = orders \\\n",
    "    .filter(\"status = 'Shipped' AND (order_date >= '2005-01-01' and order_date <= '2005-12-31')\") \\\n",
    "    .join(orderdetails, on=orderdetails.order_number == orders.order_number, how=\"inner\") \\\n",
    "    .join(products, on=products.product_code == orderdetails.product_code , how=\"inner\") \\\n",
    "    .join(product_lines, on=product_lines.product_line == products.product_line, how=\"inner\") \\\n",
    "    .select(\n",
    "        product_lines.product_line,\n",
    "        (orderdetails.quantity_ordered * orderdetails.price_each).alias(\"revenue_amount\")\n",
    "    ) \\\n",
    "    .groupBy(product_lines.product_line) \\\n",
    "    .agg(sum(\"revenue_amount\").alias(\"revenue\")) \\\n",
    "    .orderBy(\"revenue\", ascending=False)\n",
    "    \n",
    "    \n",
    "\n",
    "# Salvando o resultado em formato Delta:\n",
    "revenue_product_line.write.mode(\"overwrite\").format(\"delta\").save(\"/FileStore/CaseTecnico/revenue_product_line.delta\")\n",
    "\n",
    "# Exibindo o faturamento da linha de produto mais vendido:\n",
    "revenue_product_line.show(n=1)\n"
   ]
  },
  {
   "cell_type": "code",
   "execution_count": null,
   "metadata": {
    "application/vnd.databricks.v1+cell": {
     "cellMetadata": {
      "byteLimit": 2048000,
      "rowLimit": 10000
     },
     "inputWidgets": {},
     "nuid": "537ab279-fff3-4552-9671-72363105b6bd",
     "showTitle": false,
     "title": ""
    }
   },
   "outputs": [
    {
     "name": "stdout",
     "output_type": "stream",
     "text": [
      "+----------+---------+--------------------+\n",
      "|first_name|last_name|              e-mail|\n",
      "+----------+---------+--------------------+\n",
      "|      Mami|    Nishi|m****i@classicmod...|\n",
      "|   Yoshimi|     Kato|y***o@classicmode...|\n",
      "+----------+---------+--------------------+\n",
      "\n"
     ]
    }
   ],
   "source": [
    "# Questão N3: Nome, sobrenome e e-mail dos vendedores do Japão, o local-part do e-mail deve estar mascarado.\n",
    "\n",
    "# Definindo a UDF para mascarar o local-part do e-mail\n",
    "def mask_email(email):\n",
    "    regex = r'^([^@]+)@'\n",
    "    match = re.match(regex, email)\n",
    "    local_part = match.group(1)\n",
    "    return email.replace(local_part, f\"{local_part[0]}{'*' * (len(local_part)-2)}{local_part[-1]}\")\n",
    "\n",
    "# Criando a UDF\n",
    "mask_email_udf = udf(mask_email, StringType())\n",
    "\n",
    "# Filtrar os vendedores do escritório com código '5' (Japão)\n",
    "japan_employees = employees \\\n",
    "    .filter(\"office_code = '5'\") \\\n",
    "    .withColumn(\"e-mail\", mask_email_udf(\"email\")) \\\n",
    "    .select(\"first_name\", \"last_name\", \"e-mail\")\n",
    "\n",
    "# Salvando o resultado em formato Delta:\n",
    "japan_employees.write.mode(\"overwrite\").format(\"delta\").save(\"/FileStore/CaseTecnico/japan_employees.delta\")\n",
    "\n",
    "# Exibindo os vendedores do escritório '5' com e-mails mascarados\n",
    "japan_employees.show()\n"
   ]
  },
  {
   "cell_type": "code",
   "execution_count": null,
   "metadata": {
    "application/vnd.databricks.v1+cell": {
     "cellMetadata": {
      "byteLimit": 2048000,
      "rowLimit": 10000
     },
     "inputWidgets": {},
     "nuid": "6057d416-c6f1-40df-a380-6be402b51ea8",
     "showTitle": false,
     "title": ""
    }
   },
   "outputs": [
    {
     "name": "stdout",
     "output_type": "stream",
     "text": [
      "+----------+---------+---------------------------+\n",
      "|first_name|last_name|                     e-mail|\n",
      "+----------+---------+---------------------------+\n",
      "|      Mami|    Nishi|m****i@classicmodelcars.com|\n",
      "|   Yoshimi|     Kato| y***o@classicmodelcars.com|\n",
      "+----------+---------+---------------------------+\n",
      "\n"
     ]
    }
   ],
   "source": [
    "japan_employees.show(truncate=50)"
   ]
  },
  {
   "cell_type": "code",
   "execution_count": null,
   "metadata": {
    "application/vnd.databricks.v1+cell": {
     "cellMetadata": {
      "byteLimit": 2048000,
      "rowLimit": 10000
     },
     "inputWidgets": {},
     "nuid": "e8ec7f8a-03e5-4b0d-9bd6-dd1ff69a43f6",
     "showTitle": false,
     "title": ""
    }
   },
   "outputs": [
    {
     "data": {
      "text/html": [
       "<style scoped>\n",
       "  .table-result-container {\n",
       "    max-height: 300px;\n",
       "    overflow: auto;\n",
       "  }\n",
       "  table, th, td {\n",
       "    border: 1px solid black;\n",
       "    border-collapse: collapse;\n",
       "  }\n",
       "  th, td {\n",
       "    padding: 5px;\n",
       "  }\n",
       "  th {\n",
       "    text-align: left;\n",
       "  }\n",
       "</style><div class='table-result-container'><table class='table-result'><thead style='background-color: white'><tr><th>path</th><th>name</th><th>size</th><th>modificationTime</th></tr></thead><tbody><tr><td>dbfs:/FileStore/CaseTecnico/cancelled_count_by_country.delta/</td><td>cancelled_count_by_country.delta/</td><td>0</td><td>1692506802517</td></tr><tr><td>dbfs:/FileStore/CaseTecnico/customers.parquet/</td><td>customers.parquet/</td><td>0</td><td>1692506802517</td></tr><tr><td>dbfs:/FileStore/CaseTecnico/employees.parquet/</td><td>employees.parquet/</td><td>0</td><td>1692506802517</td></tr><tr><td>dbfs:/FileStore/CaseTecnico/japan_employees.delta/</td><td>japan_employees.delta/</td><td>0</td><td>1692506802517</td></tr><tr><td>dbfs:/FileStore/CaseTecnico/offices.parquet/</td><td>offices.parquet/</td><td>0</td><td>1692506802517</td></tr><tr><td>dbfs:/FileStore/CaseTecnico/orderdetails.parquet/</td><td>orderdetails.parquet/</td><td>0</td><td>1692506802517</td></tr><tr><td>dbfs:/FileStore/CaseTecnico/orders.parquet/</td><td>orders.parquet/</td><td>0</td><td>1692506802517</td></tr><tr><td>dbfs:/FileStore/CaseTecnico/payments.parquet/</td><td>payments.parquet/</td><td>0</td><td>1692506802517</td></tr><tr><td>dbfs:/FileStore/CaseTecnico/product_lines.parquet/</td><td>product_lines.parquet/</td><td>0</td><td>1692506802517</td></tr><tr><td>dbfs:/FileStore/CaseTecnico/products.parquet/</td><td>products.parquet/</td><td>0</td><td>1692506802517</td></tr><tr><td>dbfs:/FileStore/CaseTecnico/revenue_product_line.delta/</td><td>revenue_product_line.delta/</td><td>0</td><td>1692506802517</td></tr></tbody></table></div>"
      ]
     },
     "metadata": {
      "application/vnd.databricks.v1+output": {
       "addedWidgets": {},
       "aggData": [],
       "aggError": "",
       "aggOverflow": false,
       "aggSchema": [],
       "aggSeriesLimitReached": false,
       "aggType": "",
       "arguments": {},
       "columnCustomDisplayInfos": {},
       "data": [
        [
         "dbfs:/FileStore/CaseTecnico/cancelled_count_by_country.delta/",
         "cancelled_count_by_country.delta/",
         0,
         1692506802517
        ],
        [
         "dbfs:/FileStore/CaseTecnico/customers.parquet/",
         "customers.parquet/",
         0,
         1692506802517
        ],
        [
         "dbfs:/FileStore/CaseTecnico/employees.parquet/",
         "employees.parquet/",
         0,
         1692506802517
        ],
        [
         "dbfs:/FileStore/CaseTecnico/japan_employees.delta/",
         "japan_employees.delta/",
         0,
         1692506802517
        ],
        [
         "dbfs:/FileStore/CaseTecnico/offices.parquet/",
         "offices.parquet/",
         0,
         1692506802517
        ],
        [
         "dbfs:/FileStore/CaseTecnico/orderdetails.parquet/",
         "orderdetails.parquet/",
         0,
         1692506802517
        ],
        [
         "dbfs:/FileStore/CaseTecnico/orders.parquet/",
         "orders.parquet/",
         0,
         1692506802517
        ],
        [
         "dbfs:/FileStore/CaseTecnico/payments.parquet/",
         "payments.parquet/",
         0,
         1692506802517
        ],
        [
         "dbfs:/FileStore/CaseTecnico/product_lines.parquet/",
         "product_lines.parquet/",
         0,
         1692506802517
        ],
        [
         "dbfs:/FileStore/CaseTecnico/products.parquet/",
         "products.parquet/",
         0,
         1692506802517
        ],
        [
         "dbfs:/FileStore/CaseTecnico/revenue_product_line.delta/",
         "revenue_product_line.delta/",
         0,
         1692506802517
        ]
       ],
       "datasetInfos": [],
       "dbfsResultPath": null,
       "isJsonSchema": true,
       "metadata": {
        "isDbfsCommandResult": false
       },
       "overflow": false,
       "plotOptions": {
        "customPlotOptions": {},
        "displayType": "table",
        "pivotAggregation": null,
        "pivotColumns": null,
        "xColumns": null,
        "yColumns": null
       },
       "removedWidgets": [],
       "schema": [
        {
         "metadata": "{}",
         "name": "path",
         "type": "\"string\""
        },
        {
         "metadata": "{}",
         "name": "name",
         "type": "\"string\""
        },
        {
         "metadata": "{}",
         "name": "size",
         "type": "\"long\""
        },
        {
         "metadata": "{}",
         "name": "modificationTime",
         "type": "\"long\""
        }
       ],
       "type": "table"
      }
     },
     "output_type": "display_data"
    }
   ],
   "source": [
    "%fs ls /FileStore/CaseTecnico/"
   ]
  },
  {
   "cell_type": "code",
   "execution_count": null,
   "metadata": {
    "application/vnd.databricks.v1+cell": {
     "cellMetadata": {
      "byteLimit": 2048000,
      "rowLimit": 10000
     },
     "inputWidgets": {},
     "nuid": "c374a60e-9f1e-4576-986f-435772d042a8",
     "showTitle": false,
     "title": ""
    }
   },
   "outputs": [],
   "source": [
    "# %fs rm -r /FileStore/CaseTecnico/"
   ]
  }
 ],
 "metadata": {
  "application/vnd.databricks.v1+notebook": {
   "dashboards": [],
   "language": "python",
   "notebookMetadata": {
    "mostRecentlyExecutedCommandWithImplicitDF": {
     "commandId": -1,
     "dataframes": [
      "_sqldf"
     ]
    },
    "pythonIndentUnit": 4
   },
   "notebookName": "Case_Tecnico_Analista_de_Dados",
   "widgets": {}
  },
  "language_info": {
   "name": "python"
  }
 },
 "nbformat": 4,
 "nbformat_minor": 0
}
